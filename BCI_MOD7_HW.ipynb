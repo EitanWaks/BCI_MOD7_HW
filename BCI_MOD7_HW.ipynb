{
 "cells": [
  {
   "cell_type": "markdown",
   "metadata": {
    "collapsed": false,
    "pycharm": {
     "name": "#%% md\n"
    }
   },
   "source": [
    "# 585.683 Introduction to Brain Computer Interfaces\n",
    "## Mod 07 - Brain-Computer Interfacing – Introduction to Brain Computer Interfaces\n",
    "\n",
    "### Date Submitted: July, DAY, 2022\n",
    "\n",
    "### Eitan Waks\n",
    "\n",
    "Answer the following questions using the robintibor/high-gamma-dataset – specifically data/train/1.mat.  Make sure you provide a notebook or source code as an appendix to this assignment.  Again, make sure all plots have labeled axes and meaningful titles.\n",
    "\n",
    "Hint: You should be able to copy paste and re-use sections from the lecture notebooks provided in this module to complete this assignment with very little coding."
   ]
  },
  {
   "cell_type": "markdown",
   "metadata": {
    "collapsed": false,
    "pycharm": {
     "name": "#%% md\n"
    }
   },
   "source": [
    "#### Q1.  Preprocess the dataset in one continuous stretch:\n",
    "##### 1.\tApply a common average reference using all EEG channels (yes, even bad ones if they exist)\n",
    "##### 2.\tFor simplicity, don’t decimate the data unless you want to or have to due to memory constraints\n",
    "##### 3.\tBandpass filter the data between 1.0 and 30 Hz\n",
    "\n",
    "##### Then plot all channels whose name contains the string “AF” (hint: there’s 11) for two stretches of data.  A 10 second stretch beginning at 200 seconds into the file, and a 10 second stretch starting at 600 seconds into the file. [4 pts each]\n",
    "\n",
    "##### Which one of these plots contains an artifact, and what is the most likely source of the artifact? [2 pts]"
   ]
  },
  {
   "cell_type": "code",
   "execution_count": 4,
   "metadata": {
    "collapsed": false,
    "pycharm": {
     "name": "#%%\n"
    }
   },
   "outputs": [],
   "source": [
    "# imports\n",
    "import mne\n",
    "import numpy as np\n",
    "from pathlib import Path\n",
    "import matplotlib.pyplot as plt\n"
   ]
  },
  {
   "cell_type": "code",
   "execution_count": 5,
   "metadata": {
    "collapsed": false,
    "pycharm": {
     "name": "#%%\n"
    }
   },
   "outputs": [],
   "source": [
    "# Paths\n",
    "dataset_name = '1'\n",
    "dataset_filetype = 'edf'\n",
    "repository = 'BCI_MOD7_HW'\n",
    "app_dir = Path('/', 'app')\n",
    "data_dir = app_dir.joinpath('data')\n",
    "notebook_dir = app_dir.joinpath(repository)\n",
    "data_file = data_dir.joinpath(f'{dataset_name}.{dataset_filetype}')"
   ]
  },
  {
   "cell_type": "code",
   "execution_count": null,
   "metadata": {},
   "outputs": [],
   "source": [
    "# Load the dataset\n",
    "chs_EOG = ['EOG EOGh', 'EOG EOGv']\n",
    "chs_EMG = ['EMG EMG_RH', 'EMG EMG_LH', 'EMG EMG_RF']\n",
    "raw = mne.io.read_raw_edf(data_file, eog=chs_EOG, misc=chs_EMG, stim_channel='auto', exclude=(), infer_types=False, preload=True, verbose=None)\n",
    "original_raw = raw.copy()\n",
    "raw"
   ]
  },
  {
   "cell_type": "code",
   "execution_count": null,
   "metadata": {},
   "outputs": [],
   "source": [
    "# re-reference to the common average using MNE\n",
    "raw_car = raw.copy().set_eeg_reference( 'average' );"
   ]
  },
  {
   "cell_type": "code",
   "execution_count": null,
   "metadata": {},
   "outputs": [],
   "source": [
    "# Bandpass filter\n",
    "lowpass_freq = 1\n",
    "highpass_freq = 30\n",
    "raw_filtered = raw_car.copy().filter(l_freq=lowpass_freq, h_freq=highpass_freq)"
   ]
  },
  {
   "cell_type": "code",
   "execution_count": null,
   "metadata": {},
   "outputs": [],
   "source": [
    "# Set list of all channels whose name contains the string “AF” and the corresponding indeces\n",
    "AF_ch = [ch for ch in raw.ch_names if 'AF' in ch]\n",
    "raw_filtered_AF = raw_filtered.copy().pick(AF_ch)  # selects only the EEG channels"
   ]
  },
  {
   "cell_type": "code",
   "execution_count": null,
   "metadata": {},
   "outputs": [],
   "source": [
    "# plot all channels whose name contains the string “AF”. \n",
    "# A 10 second stretch beginning at 200 seconds into the file\n",
    "starttime = 200\n",
    "duration = 10\n",
    "fig01 = raw_filtered_AF.plot(events=None, duration=duration, start=starttime, n_channels=len(AF_ch), \n",
    "    title=f'EEG of AF channels, common average referenced and bandpass filtered between 1 and 30 Hz, beginning at {starttime} seconds for a duration of {duration} seconds', \n",
    "    show_scrollbars=False, show_scalebars=True, time_format='float')\n",
    "fig01.show()\n",
    "fig01.savefig(f'AF_EEG_{starttime}_{duration}', dpi=100, format='png', metadata={'Title': f'AF_EEG_{starttime}_{duration}', 'Author': 'Eitan Waks', \n",
    "            'Description': f'EEG plot of {AF_ch} channels, preprocessed with common average reference and bandpass filtered between 1 and 30 Hz, starting at {starttime} seconds for a duration of {duration} seconds. The data is from the robintibor/high-gamma-dataset (data/train/1.edf)'},\n",
    "            bbox_inches=None, pad_inches=0.1, facecolor='auto', edgecolor='auto', backend=None)"
   ]
  },
  {
   "cell_type": "code",
   "execution_count": null,
   "metadata": {},
   "outputs": [],
   "source": [
    "# plot all channels whose name contains the string “AF”. \n",
    "# A 10 second stretch starting at 600 seconds into the file.\n",
    "starttime = 200\n",
    "duration = 10\n",
    "fig02 = raw_filtered_AF.plot(events=None, duration=duration, start=starttime, n_channels=len(AF_ch), \n",
    "    title=f'EEG of AF channels, common average referenced and bandpass filtered between 1 and 30 Hz, beginning at {starttime} seconds for a duration of {duration} seconds', \n",
    "    show_scrollbars=False, show_scalebars=True, time_format='float')\n",
    "fig02.show()\n",
    "fig02.savefig(f'AF_EEG_{starttime}_{duration}', dpi=100, format='png', metadata={'Title': f'AF_EEG_{starttime}_{duration}', 'Author': 'Eitan Waks', \n",
    "            'Description': f'EEG plot of {AF_ch} channels, preprocessed with common average reference and bandpass filtered between 1 and 30 Hz, starting at {starttime} seconds for a duration of {duration} seconds. The data is from the robintibor/high-gamma-dataset (data/train/1.edf)'},\n",
    "            bbox_inches=None, pad_inches=0.1, facecolor='auto', edgecolor='auto', backend=None)"
   ]
  },
  {
   "cell_type": "markdown",
   "metadata": {},
   "source": [
    "##### The plot which begins at 600 seconds contains in artifact. The most likely cause for this artifact is an eye blink."
   ]
  },
  {
   "cell_type": "markdown",
   "metadata": {
    "collapsed": false,
    "pycharm": {
     "name": "#%% md\n"
    }
   },
   "source": [
    "#### Q2. Following the preprocessing previously applied in Q1, segment trials from -1.0 to +3.0 seconds around the event timestamps in the dataset events structure, and plot the trial-average (mean) timeseries for “Cz”, “C3”, “C4, “Pz”, and “Oz”, without regard to trial type (i.e., including all trial types) [2 pts per plot.]"
   ]
  },
  {
   "cell_type": "code",
   "execution_count": null,
   "metadata": {
    "collapsed": false,
    "pycharm": {
     "name": "#%%\n"
    }
   },
   "outputs": [],
   "source": [
    "# Set list of channels and corresponding indeces. Get channel data\n",
    "chs = ['EEG Cz', 'EEG C3', 'EEG C4', 'EEG Pz', 'EEG Oz']\n",
    "ch_idxs = [raw.ch_names.index(ch) for ch in chs]\n",
    "raw_filtered_chs = raw_filtered.copy().pick(chs)  # selects only the 'EEG Cz', 'EEG C3', 'EEG C4', 'EEG Pz', 'EEG Oz' channels\n",
    "raw_filtered_chs_data, raw_filtered_chs_t = raw_filtered_chs.copy()[:, :]"
   ]
  },
  {
   "cell_type": "code",
   "execution_count": null,
   "metadata": {},
   "outputs": [],
   "source": [
    "# Let's grab 1 second before the trial onset and 3 seconds after onset, and define onset to be 0 sec.\n",
    "fs = raw.info[ 'sfreq' ]\n",
    "timebase_samp = np.arange( int( fs * -1.0 ), int( fs * 3.0 ) )\n",
    "timebase_sec = timebase_samp / fs"
   ]
  },
  {
   "cell_type": "code",
   "execution_count": null,
   "metadata": {},
   "outputs": [],
   "source": [
    "# Get events from the database\n",
    "annotations = raw.annotations\n",
    "events_from_annot, event_dict = mne.events_from_annotations(raw)"
   ]
  },
  {
   "cell_type": "code",
   "execution_count": null,
   "metadata": {},
   "outputs": [],
   "source": [
    "# Create directory of events according to event type\n",
    "idxs = list(range(0, len(events_from_annot), 1))\n",
    "events = event_dict.copy()\n",
    "events['feet'] = [events_from_annot[idx][0] for idx in idxs if events_from_annot[idx][2]==event_dict['feet']]\n",
    "events['left_hand'] = [events_from_annot[idx][0] for idx in idxs if events_from_annot[idx][2]==event_dict['left_hand']]\n",
    "events['rest'] = [events_from_annot[idx][0] for idx in idxs if events_from_annot[idx][2]==event_dict['rest']]\n",
    "events['right_hand'] = [events_from_annot[idx][0] for idx in idxs if events_from_annot[idx][2]==event_dict['right_hand']]"
   ]
  },
  {
   "cell_type": "code",
   "execution_count": null,
   "metadata": {},
   "outputs": [],
   "source": [
    "# Create dictionary of event epochs according to type\n",
    "events_epochs = event_dict.copy()\n",
    "events_epochs['feet'] = [events['feet'][idx] + timebase_samp for idx in list(range(0, len(events['feet']), 1))]\n",
    "events_epochs['left_hand'] = [events['left_hand'][idx] + timebase_samp for idx in list(range(0, len(events['left_hand']), 1))]\n",
    "events_epochs['rest'] = [events['rest'][idx] + timebase_samp for idx in list(range(0, len(events['rest']), 1))]\n",
    "events_epochs['right_hand'] = [events['right_hand'][idx] + timebase_samp for idx in list(range(0, len(events['right_hand']), 1))]"
   ]
  },
  {
   "cell_type": "code",
   "execution_count": null,
   "metadata": {},
   "outputs": [],
   "source": [
    "# Create dictionary of event values split by trial type and epoch\n",
    "events_epochs_values = event_dict.copy()\n",
    "events_epochs_values['feet'] = [raw_filtered_chs_data[:,events_epochs['feet'][idx]] for idx in list(range(0, len(events_epochs['feet']), 1))]\n",
    "events_epochs_values['left_hand'] = [raw_filtered_chs_data[:,events_epochs['left_hand'][idx]] for idx in list(range(0, len(events_epochs['left_hand']), 1))]\n",
    "events_epochs_values['rest'] = [raw_filtered_chs_data[:,events_epochs['rest'][idx]] for idx in list(range(0, len(events_epochs['rest']), 1))]\n",
    "events_epochs_values['right_hand'] = [raw_filtered_chs_data[:,events_epochs['right_hand'][idx]] for idx in list(range(0, len(events_epochs['right_hand']), 1))]"
   ]
  },
  {
   "cell_type": "code",
   "execution_count": null,
   "metadata": {},
   "outputs": [],
   "source": [
    "for ch_idx, ch in enumerate(chs):\n",
    "    fig, axs = plt.subplots( nrows=2, ncols=2, dpi=100, figsize=(9.0,6.0), constrained_layout=True, sharex=True, sharey=True)\n",
    "    fig.suptitle(f'{ch}\" Trial Average ERP', fontsize=16)\n",
    "    fig.supxlabel('Time (sec) relative to trial onset')\n",
    "    fig.supylabel('Voltage (uV)')\n",
    "    for nn, ax in enumerate(axs.flat):\n",
    "        line_width = 2.0\n",
    "        ax.set_xlim(-1.0, 3.0)\n",
    "        ax.set_ylim([-19.0, 10.0])\n",
    "        ax.grid()\n",
    "        column = list(event_dict.copy().keys())[nn]\n",
    "        ax.set_title(column, fontsize='small', loc='center')\n",
    "        for event_type_idx, event_type in enumerate(event_dict):\n",
    "            erp = events_epochs_values[event_type][:][ch_idx][:].mean(axis=0)\n",
    "            erp = erp*1e6\n",
    "            \n",
    "            if nn == 0 and event_type == \"left_hand\":\n",
    "                ax.plot(timebase_sec, erp, lw=line_width)\n",
    "                break;\n",
    "            elif nn == 1 and event_type == \"right_hand\":\n",
    "                ax.plot(timebase_sec, erp, lw=line_width)\n",
    "                break;\n",
    "            elif nn == 2 and event_type == \"feet\":\n",
    "                ax.plot(timebase_sec, erp, lw=line_width)\n",
    "                break;\n",
    "            elif nn == 3 and event_type == \"rest\":\n",
    "                ax.plot(timebase_sec, erp, lw=line_width)\n",
    "                break;\n",
    "            else:\n",
    "                pass\n",
    "    plt.show()\n",
    "    plt.savefig(f'{ch}.png', dpi=100, format='png', metadata={'Title': f'{ch}', 'Author': 'Eitan Waks', \n",
    "            'Description': f'The trial average ERP for EEG channel {ch} for all trial types from the robintibor/high-gamma-dataset (data/train/1.edf)'},\n",
    "            bbox_inches=None, pad_inches=0.1, facecolor='auto', edgecolor='auto', backend=None\n",
    "       )\n"
   ]
  }
 ],
 "metadata": {
  "kernelspec": {
   "display_name": "Python 3.10.5 64-bit",
   "language": "python",
   "name": "python3"
  },
  "language_info": {
   "codemirror_mode": {
    "name": "ipython",
    "version": 3
   },
   "file_extension": ".py",
   "mimetype": "text/x-python",
   "name": "python",
   "nbconvert_exporter": "python",
   "pygments_lexer": "ipython3",
   "version": "3.10.5"
  },
  "vscode": {
   "interpreter": {
    "hash": "bf346314c43a4e41a109f13c23ca3f44734b8d745e9df5014829b5c89ef1cafd"
   }
  }
 },
 "nbformat": 4,
 "nbformat_minor": 0
}
