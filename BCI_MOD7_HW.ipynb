{
 "cells": [
  {
   "cell_type": "markdown",
   "metadata": {
    "collapsed": false,
    "pycharm": {
     "name": "#%% md\n"
    }
   },
   "source": [
    "# 585.683 Introduction to Brain Computer Interfaces\n",
    "## Mod 07 - Brain-Computer Interfacing – Introduction to Brain Computer Interfaces\n",
    "\n",
    "### Date Submitted: July, DAY, 2022\n",
    "\n",
    "### Eitan Waks\n",
    "\n",
    "Answer the following questions using the robintibor/high-gamma-dataset – specifically data/train/1.mat.  Make sure you provide a notebook or source code as an appendix to this assignment.  Again, make sure all plots have labeled axes and meaningful titles.\n",
    "\n",
    "Hint: You should be able to copy paste and re-use sections from the lecture notebooks provided in this module to complete this assignment with very little coding."
   ]
  },
  {
   "cell_type": "markdown",
   "metadata": {
    "collapsed": false,
    "pycharm": {
     "name": "#%% md\n"
    }
   },
   "source": [
    "#### Q1.  Preprocess the dataset in one continuous stretch:\n",
    "##### 1.\tApply a common average reference using all EEG channels (yes, even bad ones if they exist)\n",
    "##### 2.\tFor simplicity, don’t decimate the data unless you want to or have to due to memory constraints\n",
    "##### 3.\tBandpass filter the data between 1.0 and 30 Hz\n",
    "\n",
    "##### Then plot all channels whose name contains the string “AF” (hint: there’s 11) for two stretches of data.  A 10 second stretch beginning at 200 seconds into the file, and a 10 second stretch starting at 600 seconds into the file. [4 pts each]\n",
    "\n",
    "##### Which one of these plots contains an artifact, and what is the most likely source of the artifact? [2 pts]"
   ]
  },
  {
   "cell_type": "code",
   "execution_count": 4,
   "metadata": {
    "collapsed": false,
    "pycharm": {
     "name": "#%%\n"
    }
   },
   "outputs": [],
   "source": [
    "# imports\n",
    "import mne\n",
    "import numpy as np\n",
    "from pathlib import Path\n",
    "import matplotlib.pyplot as plt\n",
    "import braindecode\n",
    "from braindecode.datasets.bbci import  BBCIDataset\n"
   ]
  },
  {
   "cell_type": "code",
   "execution_count": 5,
   "metadata": {
    "collapsed": false,
    "pycharm": {
     "name": "#%%\n"
    }
   },
   "outputs": [],
   "source": [
    "# Paths\n",
    "dataset_name = '1'\n",
    "dataset_filetype = 'edf'\n",
    "repository = 'BCI_MOD7_HW'\n",
    "app_dir = Path('/', 'app')\n",
    "data_dir = app_dir.joinpath('data')\n",
    "notebook_dir = app_dir.joinpath(repository)\n",
    "data_file = data_dir.joinpath(f'{dataset_name}.{dataset_filetype}')"
   ]
  },
  {
   "cell_type": "code",
   "execution_count": null,
   "metadata": {},
   "outputs": [],
   "source": [
    "# Load the dataset\n",
    "chs_EOG = ['EOG EOGh', 'EOG EOGv']\n",
    "chs_EMG = ['EMG EMG_RH', 'EMG EMG_LH', 'EMG EMG_RF']\n",
    "raw = mne.io.read_raw_edf(data_file, eog=chs_EOG, misc=chs_EMG, stim_channel='auto', exclude=(), infer_types=False, preload=True, verbose=None)\n",
    "original_raw = raw.copy()\n",
    "raw"
   ]
  },
  {
   "cell_type": "code",
   "execution_count": null,
   "metadata": {},
   "outputs": [],
   "source": [
    "# re-reference to the common average using MNE\n",
    "raw_car = raw.copy().set_eeg_reference( 'average' );"
   ]
  },
  {
   "cell_type": "code",
   "execution_count": null,
   "metadata": {},
   "outputs": [],
   "source": [
    "# Bandpass filter\n",
    "lowpass_freq = 1\n",
    "highpass_freq = 30\n",
    "raw_filtered = raw_car.copy().filter(l_freq=lowpass_freq, h_freq=highpass_freq)"
   ]
  },
  {
   "cell_type": "code",
   "execution_count": null,
   "metadata": {},
   "outputs": [],
   "source": [
    "# Set list of all channels whose name contains the string “AF” and the corresponding indeces\n",
    "AF_ch = [ch for ch in raw.ch_names if 'AF' in ch]\n",
    "AF_ch_idxs = [raw.ch_names.index(ch) for ch in AF_ch]\n",
    "raw_filtered_AF = raw_filtered.pick(AF_ch)  # selects only the EEG channels"
   ]
  },
  {
   "cell_type": "code",
   "execution_count": null,
   "metadata": {},
   "outputs": [],
   "source": [
    "# plot all channels whose name contains the string “AF”. \n",
    "# A 10 second stretch beginning at 200 seconds into the file\n",
    "raw_filtered_AF.plot(start=200, duration=10)"
   ]
  },
  {
   "cell_type": "code",
   "execution_count": null,
   "metadata": {},
   "outputs": [],
   "source": [
    "# plot all channels whose name contains the string “AF”. \n",
    "# A 10 second stretch starting at 600 seconds into the file.\n",
    "raw_filtered_AF.plot(start=600, duration=10)"
   ]
  },
  {
   "cell_type": "markdown",
   "metadata": {},
   "source": [
    "##### The plot which begins at 600 seconds contains in artifact. The most likely cause for this artifact is an eye blink."
   ]
  },
  {
   "cell_type": "markdown",
   "metadata": {
    "collapsed": false,
    "pycharm": {
     "name": "#%% md\n"
    }
   },
   "source": [
    "#### Q2. Following the preprocessing previously applied in Q1, segment trials from -1.0 to +3.0 seconds around the event timestamps in the dataset events structure, and plot the trial-average (mean) timeseries for “Cz”, “C3”, “C4, “Pz”, and “Oz”, without regard to trial type (i.e., including all trial types) [2 pts per plot.]"
   ]
  },
  {
   "cell_type": "code",
   "execution_count": null,
   "metadata": {
    "collapsed": false,
    "pycharm": {
     "name": "#%%\n"
    }
   },
   "outputs": [],
   "source": [
    "# Set list of channels and corresponding indeces\n",
    "chs = ['EEG Cz', 'EEG C3', 'EEG C4', 'EEG Pz', 'EEG Oz']\n",
    "ch_idxs = [raw.ch_names.index(ch) for ch in chs]"
   ]
  },
  {
   "cell_type": "code",
   "execution_count": null,
   "metadata": {},
   "outputs": [],
   "source": [
    "# Get events from the database\n",
    "annotations = raw.annotations\n",
    "events_from_annot, event_dict = mne.events_from_annotations(raw)\n",
    "print(event_dict)"
   ]
  }
 ],
 "metadata": {
  "kernelspec": {
   "display_name": "Python 3.10.5 64-bit",
   "language": "python",
   "name": "python3"
  },
  "language_info": {
   "codemirror_mode": {
    "name": "ipython",
    "version": 3
   },
   "file_extension": ".py",
   "mimetype": "text/x-python",
   "name": "python",
   "nbconvert_exporter": "python",
   "pygments_lexer": "ipython3",
   "version": "3.10.5"
  },
  "vscode": {
   "interpreter": {
    "hash": "bf346314c43a4e41a109f13c23ca3f44734b8d745e9df5014829b5c89ef1cafd"
   }
  }
 },
 "nbformat": 4,
 "nbformat_minor": 0
}
